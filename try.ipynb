{
 "cells": [
  {
   "cell_type": "code",
   "execution_count": 1,
   "metadata": {},
   "outputs": [],
   "source": [
    "import pandas as pd\n",
    "import numpy as np\n",
    "import mysql.connector\n",
    "import re"
   ]
  },
  {
   "cell_type": "code",
   "execution_count": 2,
   "metadata": {},
   "outputs": [
    {
     "name": "stdout",
     "output_type": "stream",
     "text": [
      "Extracted Currency Codes: ['Date', 'DZD', 'AUD', 'BWP', 'BRL', 'BND', 'CAD', 'CLP', 'CNY', 'CZK', 'DKK', 'EUR', 'INR', 'ILS', 'JPY', 'KRW', 'KWD', 'MYR', 'MUR', 'MXN', 'NZD', 'NOK', 'OMR', 'PEN', 'PHP', 'PLN', 'QAR', 'RUB', 'SAR', 'SGD', 'ZAR', 'SEK', 'CHF', 'THB', 'TTD', 'AED', 'GBP', 'USD', 'UYU']\n"
     ]
    }
   ],
   "source": [
    "df_old = pd.read_csv(r'C:\\Users\\DELL\\Documents\\Code\\mitwpu-team_4-currency_exchange\\conversion_rates\\Exchange_Rate_Report_2022.csv')\n",
    "new_cols = []\n",
    "for x in list(df_old.columns):\n",
    "    new_cols.append(x.strip())\n",
    "\n",
    "# List to hold extracted currency codes\n",
    "currency_codes = ['Date']\n",
    "\n",
    "# Regex pattern to extract the currency code\n",
    "pattern = r'\\((\\w{3})\\)'\n",
    "\n",
    "# Loop through each country name and extract the code\n",
    "for country in new_cols:\n",
    "    match = re.search(pattern, country)\n",
    "    if match:\n",
    "        currency_code = match.group(1)\n",
    "        currency_codes.append(currency_code)\n",
    "\n",
    "# Output the list of currency codes\n",
    "print(\"Extracted Currency Codes:\", currency_codes)"
   ]
  },
  {
   "cell_type": "code",
   "execution_count": 3,
   "metadata": {},
   "outputs": [
    {
     "data": {
      "text/html": [
       "<div>\n",
       "<style scoped>\n",
       "    .dataframe tbody tr th:only-of-type {\n",
       "        vertical-align: middle;\n",
       "    }\n",
       "\n",
       "    .dataframe tbody tr th {\n",
       "        vertical-align: top;\n",
       "    }\n",
       "\n",
       "    .dataframe thead th {\n",
       "        text-align: right;\n",
       "    }\n",
       "</style>\n",
       "<table border=\"1\" class=\"dataframe\">\n",
       "  <thead>\n",
       "    <tr style=\"text-align: right;\">\n",
       "      <th></th>\n",
       "      <th>Date</th>\n",
       "      <th>Algerian dinar   (DZD)</th>\n",
       "      <th>Australian dollar   (AUD)</th>\n",
       "      <th>Botswana pula   (BWP)</th>\n",
       "      <th>Brazilian real   (BRL)</th>\n",
       "      <th>Brunei dollar   (BND)</th>\n",
       "      <th>Canadian dollar   (CAD)</th>\n",
       "      <th>Chilean peso   (CLP)</th>\n",
       "      <th>Chinese yuan   (CNY)</th>\n",
       "      <th>Czech koruna   (CZK)</th>\n",
       "      <th>...</th>\n",
       "      <th>Singapore dollar   (SGD)</th>\n",
       "      <th>South African rand   (ZAR)</th>\n",
       "      <th>Swedish krona   (SEK)</th>\n",
       "      <th>Swiss franc   (CHF)</th>\n",
       "      <th>Thai baht   (THB)</th>\n",
       "      <th>Trinidadian dollar   (TTD)</th>\n",
       "      <th>U.A.E. dirham   (AED)</th>\n",
       "      <th>U.K. pound   (GBP)</th>\n",
       "      <th>U.S. dollar   (USD)</th>\n",
       "      <th>Uruguayan peso   (UYU)</th>\n",
       "    </tr>\n",
       "  </thead>\n",
       "  <tbody>\n",
       "    <tr>\n",
       "      <th>0</th>\n",
       "      <td>3-Jan-22</td>\n",
       "      <td>138.6713</td>\n",
       "      <td>NaN</td>\n",
       "      <td>NaN</td>\n",
       "      <td>5.6303</td>\n",
       "      <td>1.3510</td>\n",
       "      <td>NaN</td>\n",
       "      <td>844.69</td>\n",
       "      <td>NaN</td>\n",
       "      <td>21.860</td>\n",
       "      <td>...</td>\n",
       "      <td>1.3510</td>\n",
       "      <td>15.82355</td>\n",
       "      <td>9.0504</td>\n",
       "      <td>0.9121</td>\n",
       "      <td>NaN</td>\n",
       "      <td>6.7742</td>\n",
       "      <td>3.6725</td>\n",
       "      <td>NaN</td>\n",
       "      <td>1</td>\n",
       "      <td>44.614</td>\n",
       "    </tr>\n",
       "    <tr>\n",
       "      <th>1</th>\n",
       "      <td>4-Jan-22</td>\n",
       "      <td>138.9115</td>\n",
       "      <td>1.38677</td>\n",
       "      <td>NaN</td>\n",
       "      <td>5.6770</td>\n",
       "      <td>1.3548</td>\n",
       "      <td>1.2708</td>\n",
       "      <td>851.43</td>\n",
       "      <td>6.3751</td>\n",
       "      <td>21.944</td>\n",
       "      <td>...</td>\n",
       "      <td>1.3548</td>\n",
       "      <td>16.04260</td>\n",
       "      <td>9.0956</td>\n",
       "      <td>0.9187</td>\n",
       "      <td>33.311</td>\n",
       "      <td>6.7723</td>\n",
       "      <td>3.6725</td>\n",
       "      <td>0.740988</td>\n",
       "      <td>1</td>\n",
       "      <td>44.725</td>\n",
       "    </tr>\n",
       "  </tbody>\n",
       "</table>\n",
       "<p>2 rows × 39 columns</p>\n",
       "</div>"
      ],
      "text/plain": [
       "       Date  Algerian dinar   (DZD)                       \\\n",
       "0  3-Jan-22                                     138.6713   \n",
       "1  4-Jan-22                                     138.9115   \n",
       "\n",
       "   Australian dollar   (AUD)                       \\\n",
       "0                                             NaN   \n",
       "1                                         1.38677   \n",
       "\n",
       "   Botswana pula   (BWP)                       \\\n",
       "0                                         NaN   \n",
       "1                                         NaN   \n",
       "\n",
       "   Brazilian real   (BRL)                       \\\n",
       "0                                       5.6303   \n",
       "1                                       5.6770   \n",
       "\n",
       "   Brunei dollar   (BND)                       \\\n",
       "0                                      1.3510   \n",
       "1                                      1.3548   \n",
       "\n",
       "   Canadian dollar   (CAD)                       \\\n",
       "0                                           NaN   \n",
       "1                                        1.2708   \n",
       "\n",
       "   Chilean peso   (CLP)                       \\\n",
       "0                                     844.69   \n",
       "1                                     851.43   \n",
       "\n",
       "   Chinese yuan   (CNY)                       \\\n",
       "0                                        NaN   \n",
       "1                                     6.3751   \n",
       "\n",
       "   Czech koruna   (CZK)                       ...  \\\n",
       "0                                     21.860  ...   \n",
       "1                                     21.944  ...   \n",
       "\n",
       "   Singapore dollar   (SGD)                       \\\n",
       "0                                         1.3510   \n",
       "1                                         1.3548   \n",
       "\n",
       "   South African rand   (ZAR)                       \\\n",
       "0                                         15.82355   \n",
       "1                                         16.04260   \n",
       "\n",
       "   Swedish krona   (SEK)                       \\\n",
       "0                                      9.0504   \n",
       "1                                      9.0956   \n",
       "\n",
       "   Swiss franc   (CHF)                       \\\n",
       "0                                    0.9121   \n",
       "1                                    0.9187   \n",
       "\n",
       "   Thai baht   (THB)                       \\\n",
       "0                                     NaN   \n",
       "1                                  33.311   \n",
       "\n",
       "   Trinidadian dollar   (TTD)                       \\\n",
       "0                                           6.7742   \n",
       "1                                           6.7723   \n",
       "\n",
       "   U.A.E. dirham   (AED)                       \\\n",
       "0                                      3.6725   \n",
       "1                                      3.6725   \n",
       "\n",
       "   U.K. pound   (GBP)                       \\\n",
       "0                                      NaN   \n",
       "1                                 0.740988   \n",
       "\n",
       "   U.S. dollar   (USD)                       \\\n",
       "0                                         1   \n",
       "1                                         1   \n",
       "\n",
       "   Uruguayan peso   (UYU)                       \n",
       "0                                       44.614  \n",
       "1                                       44.725  \n",
       "\n",
       "[2 rows x 39 columns]"
      ]
     },
     "execution_count": 3,
     "metadata": {},
     "output_type": "execute_result"
    }
   ],
   "source": [
    "df_old.head(2)"
   ]
  },
  {
   "cell_type": "code",
   "execution_count": 4,
   "metadata": {},
   "outputs": [],
   "source": [
    "df = pd.read_csv(r'C:\\Users\\DELL\\Documents\\Code\\mitwpu-team_4-currency_exchange\\conversion_rates\\Exchange_Rate_Report_2022.csv', names=currency_codes, header=0)\n",
    "df = df.replace({np.nan: None})\n",
    "df['Date'] = pd.to_datetime(df['Date'], format='%d-%b-%y').dt.strftime('%Y-%m-%d')"
   ]
  },
  {
   "cell_type": "code",
   "execution_count": 5,
   "metadata": {},
   "outputs": [
    {
     "data": {
      "text/html": [
       "<div>\n",
       "<style scoped>\n",
       "    .dataframe tbody tr th:only-of-type {\n",
       "        vertical-align: middle;\n",
       "    }\n",
       "\n",
       "    .dataframe tbody tr th {\n",
       "        vertical-align: top;\n",
       "    }\n",
       "\n",
       "    .dataframe thead th {\n",
       "        text-align: right;\n",
       "    }\n",
       "</style>\n",
       "<table border=\"1\" class=\"dataframe\">\n",
       "  <thead>\n",
       "    <tr style=\"text-align: right;\">\n",
       "      <th></th>\n",
       "      <th>Date</th>\n",
       "      <th>DZD</th>\n",
       "      <th>AUD</th>\n",
       "      <th>BWP</th>\n",
       "      <th>BRL</th>\n",
       "      <th>BND</th>\n",
       "      <th>CAD</th>\n",
       "      <th>CLP</th>\n",
       "      <th>CNY</th>\n",
       "      <th>CZK</th>\n",
       "      <th>...</th>\n",
       "      <th>SGD</th>\n",
       "      <th>ZAR</th>\n",
       "      <th>SEK</th>\n",
       "      <th>CHF</th>\n",
       "      <th>THB</th>\n",
       "      <th>TTD</th>\n",
       "      <th>AED</th>\n",
       "      <th>GBP</th>\n",
       "      <th>USD</th>\n",
       "      <th>UYU</th>\n",
       "    </tr>\n",
       "  </thead>\n",
       "  <tbody>\n",
       "    <tr>\n",
       "      <th>0</th>\n",
       "      <td>2022-01-03</td>\n",
       "      <td>138.6713</td>\n",
       "      <td>None</td>\n",
       "      <td>None</td>\n",
       "      <td>5.6303</td>\n",
       "      <td>1.351</td>\n",
       "      <td>None</td>\n",
       "      <td>844.69</td>\n",
       "      <td>None</td>\n",
       "      <td>21.86</td>\n",
       "      <td>...</td>\n",
       "      <td>1.351</td>\n",
       "      <td>15.82355</td>\n",
       "      <td>9.0504</td>\n",
       "      <td>0.9121</td>\n",
       "      <td>None</td>\n",
       "      <td>6.7742</td>\n",
       "      <td>3.6725</td>\n",
       "      <td>None</td>\n",
       "      <td>1</td>\n",
       "      <td>44.614</td>\n",
       "    </tr>\n",
       "    <tr>\n",
       "      <th>1</th>\n",
       "      <td>2022-01-04</td>\n",
       "      <td>138.9115</td>\n",
       "      <td>1.38677</td>\n",
       "      <td>None</td>\n",
       "      <td>5.677</td>\n",
       "      <td>1.3548</td>\n",
       "      <td>1.2708</td>\n",
       "      <td>851.43</td>\n",
       "      <td>6.3751</td>\n",
       "      <td>21.944</td>\n",
       "      <td>...</td>\n",
       "      <td>1.3548</td>\n",
       "      <td>16.0426</td>\n",
       "      <td>9.0956</td>\n",
       "      <td>0.9187</td>\n",
       "      <td>33.311</td>\n",
       "      <td>6.7723</td>\n",
       "      <td>3.6725</td>\n",
       "      <td>0.740988</td>\n",
       "      <td>1</td>\n",
       "      <td>44.725</td>\n",
       "    </tr>\n",
       "  </tbody>\n",
       "</table>\n",
       "<p>2 rows × 39 columns</p>\n",
       "</div>"
      ],
      "text/plain": [
       "         Date       DZD      AUD   BWP     BRL     BND     CAD     CLP  \\\n",
       "0  2022-01-03  138.6713     None  None  5.6303   1.351    None  844.69   \n",
       "1  2022-01-04  138.9115  1.38677  None   5.677  1.3548  1.2708  851.43   \n",
       "\n",
       "      CNY     CZK  ...     SGD       ZAR     SEK     CHF     THB     TTD  \\\n",
       "0    None   21.86  ...   1.351  15.82355  9.0504  0.9121    None  6.7742   \n",
       "1  6.3751  21.944  ...  1.3548   16.0426  9.0956  0.9187  33.311  6.7723   \n",
       "\n",
       "      AED       GBP USD     UYU  \n",
       "0  3.6725      None   1  44.614  \n",
       "1  3.6725  0.740988   1  44.725  \n",
       "\n",
       "[2 rows x 39 columns]"
      ]
     },
     "execution_count": 5,
     "metadata": {},
     "output_type": "execute_result"
    }
   ],
   "source": [
    "df.head(2)"
   ]
  },
  {
   "cell_type": "code",
   "execution_count": 6,
   "metadata": {},
   "outputs": [
    {
     "name": "stdout",
     "output_type": "stream",
     "text": [
      "<class 'pandas.core.frame.DataFrame'>\n",
      "RangeIndex: 165 entries, 0 to 164\n",
      "Data columns (total 39 columns):\n",
      " #   Column  Non-Null Count  Dtype \n",
      "---  ------  --------------  ----- \n",
      " 0   Date    165 non-null    object\n",
      " 1   DZD     155 non-null    object\n",
      " 2   AUD     156 non-null    object\n",
      " 3   BWP     148 non-null    object\n",
      " 4   BRL     149 non-null    object\n",
      " 5   BND     147 non-null    object\n",
      " 6   CAD     149 non-null    object\n",
      " 7   CLP     159 non-null    object\n",
      " 8   CNY     153 non-null    object\n",
      " 9   CZK     158 non-null    object\n",
      " 10  DKK     152 non-null    object\n",
      " 11  EUR     163 non-null    object\n",
      " 12  INR     152 non-null    object\n",
      " 13  ILS     150 non-null    object\n",
      " 14  JPY     155 non-null    object\n",
      " 15  KRW     145 non-null    object\n",
      " 16  KWD     119 non-null    object\n",
      " 17  MYR     150 non-null    object\n",
      " 18  MUR     156 non-null    object\n",
      " 19  MXN     151 non-null    object\n",
      " 20  NZD     154 non-null    object\n",
      " 21  NOK     148 non-null    object\n",
      " 22  OMR     121 non-null    object\n",
      " 23  PEN     141 non-null    object\n",
      " 24  PHP     149 non-null    object\n",
      " 25  PLN     158 non-null    object\n",
      " 26  QAR     120 non-null    object\n",
      " 27  RUB     148 non-null    object\n",
      " 28  SAR     119 non-null    object\n",
      " 29  SGD     155 non-null    object\n",
      " 30  ZAR     148 non-null    object\n",
      " 31  SEK     158 non-null    object\n",
      " 32  CHF     156 non-null    object\n",
      " 33  THB     150 non-null    object\n",
      " 34  TTD     148 non-null    object\n",
      " 35  AED     127 non-null    object\n",
      " 36  GBP     159 non-null    object\n",
      " 37  USD     165 non-null    int64 \n",
      " 38  UYU     144 non-null    object\n",
      "dtypes: int64(1), object(38)\n",
      "memory usage: 50.4+ KB\n"
     ]
    }
   ],
   "source": [
    "df.info()"
   ]
  },
  {
   "cell_type": "code",
   "execution_count": 7,
   "metadata": {},
   "outputs": [],
   "source": [
    "# Connect to MySQL Database\n",
    "connection = mysql.connector.connect(\n",
    "    host='localhost',\n",
    "    user='root',\n",
    "    password=''\n",
    ")\n",
    "\n",
    "cursor = connection.cursor()\n",
    "database_name = 'currency_data22'\n",
    "cursor.execute(f\"CREATE DATABASE IF NOT EXISTS {database_name}\")\n",
    "cursor.execute(f\"USE {database_name}\")\n",
    "# Create the table with the appropriate schema"
   ]
  },
  {
   "cell_type": "code",
   "execution_count": 8,
   "metadata": {},
   "outputs": [],
   "source": [
    "table_creation = \"CREATE TABLE IF NOT EXISTS currency_rates22 ( Date DATE\"\n",
    "for x in currency_codes[1:]:\n",
    "    table_creation += f\", {x} DECIMAL(10,4)\"\n",
    "table_creation += \");\"\n",
    "cursor.execute(table_creation)"
   ]
  },
  {
   "cell_type": "code",
   "execution_count": 9,
   "metadata": {},
   "outputs": [
    {
     "data": {
      "text/plain": [
       "'CREATE TABLE IF NOT EXISTS currency_rates22 ( Date DATE, DZD DECIMAL(10,4), AUD DECIMAL(10,4), BWP DECIMAL(10,4), BRL DECIMAL(10,4), BND DECIMAL(10,4), CAD DECIMAL(10,4), CLP DECIMAL(10,4), CNY DECIMAL(10,4), CZK DECIMAL(10,4), DKK DECIMAL(10,4), EUR DECIMAL(10,4), INR DECIMAL(10,4), ILS DECIMAL(10,4), JPY DECIMAL(10,4), KRW DECIMAL(10,4), KWD DECIMAL(10,4), MYR DECIMAL(10,4), MUR DECIMAL(10,4), MXN DECIMAL(10,4), NZD DECIMAL(10,4), NOK DECIMAL(10,4), OMR DECIMAL(10,4), PEN DECIMAL(10,4), PHP DECIMAL(10,4), PLN DECIMAL(10,4), QAR DECIMAL(10,4), RUB DECIMAL(10,4), SAR DECIMAL(10,4), SGD DECIMAL(10,4), ZAR DECIMAL(10,4), SEK DECIMAL(10,4), CHF DECIMAL(10,4), THB DECIMAL(10,4), TTD DECIMAL(10,4), AED DECIMAL(10,4), GBP DECIMAL(10,4), USD DECIMAL(10,4), UYU DECIMAL(10,4));'"
      ]
     },
     "execution_count": 9,
     "metadata": {},
     "output_type": "execute_result"
    }
   ],
   "source": [
    "table_creation"
   ]
  },
  {
   "cell_type": "code",
   "execution_count": 14,
   "metadata": {},
   "outputs": [
    {
     "data": {
      "text/plain": [
       "'INSERT INTO currency_rates22 (Date , DZD, AUD, BWP, BRL, BND, CAD, CLP, CNY, CZK, DKK, EUR, INR, ILS, JPY, KRW, KWD, MYR, MUR, MXN, NZD, NOK, OMR, PEN, PHP, PLN, QAR, RUB, SAR, SGD, ZAR, SEK, CHF, THB, TTD, AED, GBP, USD, UYU) VALUES'"
      ]
     },
     "execution_count": 14,
     "metadata": {},
     "output_type": "execute_result"
    }
   ],
   "source": [
    "insertion_format = \"INSERT INTO currency_rates22 (Date \"\n",
    "for x in currency_codes[1:]:\n",
    "    insertion_format += f\", {x}\"\n",
    "insertion_format += \") VALUES\"\n",
    "insertion_format"
   ]
  },
  {
   "cell_type": "code",
   "execution_count": 27,
   "metadata": {},
   "outputs": [
    {
     "name": "stdout",
     "output_type": "stream",
     "text": [
      "['2022-01-03' 138.6713 None None 5.6303 1.351 None 844.69 None 21.86\n",
      " 6.5506 0.880669309 74.3115 3.092 None 1185.5 0.3025 4.171 None 20.589\n",
      " None 8.8078 0.3845 3.987 50.974 4.0424 3.64 None 3.75 1.351 15.82355\n",
      " 9.0504 0.9121 None 6.7742 3.6725 None 1 44.614]\n",
      "INSERT INTO currency_rates22 (Date , DZD, AUD, BWP, BRL, BND, CAD, CLP, CNY, CZK, DKK, EUR, INR, ILS, JPY, KRW, KWD, MYR, MUR, MXN, NZD, NOK, OMR, PEN, PHP, PLN, QAR, RUB, SAR, SGD, ZAR, SEK, CHF, THB, TTD, AED, GBP, USD, UYU) VALUES(\"2022-01-03\", 138.6713, NULL, NULL, 5.6303, 1.351, NULL, 844.69, NULL, 21.86, 6.5506, 0.880669309, 74.3115, 3.092, NULL, 1185.5, 0.3025, 4.171, NULL, 20.589, NULL, 8.8078, 0.3845, 3.987, 50.974, 4.0424, 3.64, NULL, 3.75, 1.351, 15.82355, 9.0504, 0.9121, NULL, 6.7742, 3.6725, NULL, 1, 44.614);\n"
     ]
    },
    {
     "ename": "InternalError",
     "evalue": "Unread result found",
     "output_type": "error",
     "traceback": [
      "\u001b[1;31m---------------------------------------------------------------------------\u001b[0m",
      "\u001b[1;31mInternalError\u001b[0m                             Traceback (most recent call last)",
      "Cell \u001b[1;32mIn[27], line 11\u001b[0m\n\u001b[0;32m      9\u001b[0m toInsert \u001b[38;5;241m+\u001b[39m\u001b[38;5;241m=\u001b[39m \u001b[38;5;124m\"\u001b[39m\u001b[38;5;124m);\u001b[39m\u001b[38;5;124m\"\u001b[39m\n\u001b[0;32m     10\u001b[0m \u001b[38;5;28mprint\u001b[39m(toInsert)\n\u001b[1;32m---> 11\u001b[0m \u001b[43mcursor\u001b[49m\u001b[38;5;241;43m.\u001b[39;49m\u001b[43mexecute\u001b[49m\u001b[43m(\u001b[49m\u001b[43mtoInsert\u001b[49m\u001b[43m)\u001b[49m\n\u001b[0;32m     12\u001b[0m connection\u001b[38;5;241m.\u001b[39mcommit()\n\u001b[0;32m     13\u001b[0m \u001b[38;5;28;01mbreak\u001b[39;00m\n",
      "File \u001b[1;32mc:\\Users\\DELL\\AppData\\Local\\Programs\\Python\\Python312\\Lib\\site-packages\\mysql\\connector\\cursor_cext.py:330\u001b[0m, in \u001b[0;36mCMySQLCursor.execute\u001b[1;34m(self, operation, params, multi)\u001b[0m\n\u001b[0;32m    328\u001b[0m \u001b[38;5;28;01mexcept\u001b[39;00m (ProgrammingError, \u001b[38;5;167;01mReferenceError\u001b[39;00m) \u001b[38;5;28;01mas\u001b[39;00m err:\n\u001b[0;32m    329\u001b[0m     \u001b[38;5;28;01mraise\u001b[39;00m ProgrammingError(\u001b[38;5;124m\"\u001b[39m\u001b[38;5;124mCursor is not connected\u001b[39m\u001b[38;5;124m\"\u001b[39m, \u001b[38;5;241m2055\u001b[39m) \u001b[38;5;28;01mfrom\u001b[39;00m \u001b[38;5;21;01merr\u001b[39;00m\n\u001b[1;32m--> 330\u001b[0m \u001b[38;5;28;43mself\u001b[39;49m\u001b[38;5;241;43m.\u001b[39;49m\u001b[43m_connection\u001b[49m\u001b[38;5;241;43m.\u001b[39;49m\u001b[43mhandle_unread_result\u001b[49m\u001b[43m(\u001b[49m\u001b[43m)\u001b[49m\n\u001b[0;32m    332\u001b[0m stmt \u001b[38;5;241m=\u001b[39m \u001b[38;5;124mb\u001b[39m\u001b[38;5;124m\"\u001b[39m\u001b[38;5;124m\"\u001b[39m\n\u001b[0;32m    333\u001b[0m \u001b[38;5;28mself\u001b[39m\u001b[38;5;241m.\u001b[39mreset()\n",
      "File \u001b[1;32mc:\\Users\\DELL\\AppData\\Local\\Programs\\Python\\Python312\\Lib\\site-packages\\mysql\\connector\\connection_cext.py:1044\u001b[0m, in \u001b[0;36mCMySQLConnection.handle_unread_result\u001b[1;34m(self, prepared)\u001b[0m\n\u001b[0;32m   1042\u001b[0m     \u001b[38;5;28mself\u001b[39m\u001b[38;5;241m.\u001b[39mconsume_results()\n\u001b[0;32m   1043\u001b[0m \u001b[38;5;28;01melif\u001b[39;00m unread_result:\n\u001b[1;32m-> 1044\u001b[0m     \u001b[38;5;28;01mraise\u001b[39;00m InternalError(\u001b[38;5;124m\"\u001b[39m\u001b[38;5;124mUnread result found\u001b[39m\u001b[38;5;124m\"\u001b[39m)\n",
      "\u001b[1;31mInternalError\u001b[0m: Unread result found"
     ]
    }
   ],
   "source": [
    "for idx, row in df.iterrows():\n",
    "    print(row.values)\n",
    "    toInsert = \"\" + insertion_format + \"(\" + f\"\\\"{str(row.values[0])}\\\"\"\n",
    "    for field in row.values[1:]:\n",
    "        if field is None:\n",
    "            toInsert += f\", NULL\"\n",
    "        else:\n",
    "            toInsert += f\", {field}\"\n",
    "    toInsert += \");\"\n",
    "    print(toInsert)\n",
    "    cursor.execute(toInsert)\n",
    "    connection.commit()\n",
    "    break"
   ]
  },
  {
   "cell_type": "code",
   "execution_count": 24,
   "metadata": {},
   "outputs": [
    {
     "ename": "InternalError",
     "evalue": "Unread result found",
     "output_type": "error",
     "traceback": [
      "\u001b[1;31m---------------------------------------------------------------------------\u001b[0m",
      "\u001b[1;31mInternalError\u001b[0m                             Traceback (most recent call last)",
      "Cell \u001b[1;32mIn[24], line 1\u001b[0m\n\u001b[1;32m----> 1\u001b[0m \u001b[38;5;28mprint\u001b[39m(\u001b[43mcursor\u001b[49m\u001b[38;5;241;43m.\u001b[39;49m\u001b[43mexecute\u001b[49m\u001b[43m(\u001b[49m\u001b[38;5;124;43m\"\u001b[39;49m\u001b[38;5;124;43mSHOW DATABASES\u001b[39;49m\u001b[38;5;124;43m\"\u001b[39;49m\u001b[43m)\u001b[49m)\n",
      "File \u001b[1;32mc:\\Users\\DELL\\AppData\\Local\\Programs\\Python\\Python312\\Lib\\site-packages\\mysql\\connector\\cursor_cext.py:330\u001b[0m, in \u001b[0;36mCMySQLCursor.execute\u001b[1;34m(self, operation, params, multi)\u001b[0m\n\u001b[0;32m    328\u001b[0m \u001b[38;5;28;01mexcept\u001b[39;00m (ProgrammingError, \u001b[38;5;167;01mReferenceError\u001b[39;00m) \u001b[38;5;28;01mas\u001b[39;00m err:\n\u001b[0;32m    329\u001b[0m     \u001b[38;5;28;01mraise\u001b[39;00m ProgrammingError(\u001b[38;5;124m\"\u001b[39m\u001b[38;5;124mCursor is not connected\u001b[39m\u001b[38;5;124m\"\u001b[39m, \u001b[38;5;241m2055\u001b[39m) \u001b[38;5;28;01mfrom\u001b[39;00m \u001b[38;5;21;01merr\u001b[39;00m\n\u001b[1;32m--> 330\u001b[0m \u001b[38;5;28;43mself\u001b[39;49m\u001b[38;5;241;43m.\u001b[39;49m\u001b[43m_connection\u001b[49m\u001b[38;5;241;43m.\u001b[39;49m\u001b[43mhandle_unread_result\u001b[49m\u001b[43m(\u001b[49m\u001b[43m)\u001b[49m\n\u001b[0;32m    332\u001b[0m stmt \u001b[38;5;241m=\u001b[39m \u001b[38;5;124mb\u001b[39m\u001b[38;5;124m\"\u001b[39m\u001b[38;5;124m\"\u001b[39m\n\u001b[0;32m    333\u001b[0m \u001b[38;5;28mself\u001b[39m\u001b[38;5;241m.\u001b[39mreset()\n",
      "File \u001b[1;32mc:\\Users\\DELL\\AppData\\Local\\Programs\\Python\\Python312\\Lib\\site-packages\\mysql\\connector\\connection_cext.py:1044\u001b[0m, in \u001b[0;36mCMySQLConnection.handle_unread_result\u001b[1;34m(self, prepared)\u001b[0m\n\u001b[0;32m   1042\u001b[0m     \u001b[38;5;28mself\u001b[39m\u001b[38;5;241m.\u001b[39mconsume_results()\n\u001b[0;32m   1043\u001b[0m \u001b[38;5;28;01melif\u001b[39;00m unread_result:\n\u001b[1;32m-> 1044\u001b[0m     \u001b[38;5;28;01mraise\u001b[39;00m InternalError(\u001b[38;5;124m\"\u001b[39m\u001b[38;5;124mUnread result found\u001b[39m\u001b[38;5;124m\"\u001b[39m)\n",
      "\u001b[1;31mInternalError\u001b[0m: Unread result found"
     ]
    }
   ],
   "source": [
    "print(cursor.execute(\"SHOW DATABASES\"))"
   ]
  },
  {
   "cell_type": "code",
   "execution_count": null,
   "metadata": {},
   "outputs": [],
   "source": []
  }
 ],
 "metadata": {
  "kernelspec": {
   "display_name": "Python 3",
   "language": "python",
   "name": "python3"
  },
  "language_info": {
   "codemirror_mode": {
    "name": "ipython",
    "version": 3
   },
   "file_extension": ".py",
   "mimetype": "text/x-python",
   "name": "python",
   "nbconvert_exporter": "python",
   "pygments_lexer": "ipython3",
   "version": "3.12.5"
  }
 },
 "nbformat": 4,
 "nbformat_minor": 2
}
